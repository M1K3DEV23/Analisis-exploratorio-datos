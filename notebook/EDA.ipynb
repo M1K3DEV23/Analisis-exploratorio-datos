{
 "cells": [
  {
   "cell_type": "markdown",
   "metadata": {},
   "source": [
    "# Palmer Archipelago **(Antarctica)** *EDA*\n",
    "\n",
    "## **Resumen:**\n",
    "\n",
    "\n",
    "- **`species`**: especie de pingüino (*Adélie, Chinstrap or Gentoo*)\n",
    "\n",
    "- **`bill_length_mm`**: longitud del pico *(mm)*\n",
    "\n",
    "- **`bill_depth_mm`**: profundidad del pico *(mm)*\n",
    "\n",
    "- **`flipper_length_mm`**: largo de aletas *(mm)*\n",
    "\n",
    "- **`body_mass_g`**: masa corporal (g)\n",
    "\n",
    "- **`island`**: nombre de isla *(Dream, Torgersen o Biscoe) en el Arco Palmariano (Antártida)*\n",
    "\n",
    "- **`sex`**: sexo de pingüino\n",
    "\n",
    "- **`year`**: Años de la toma de la muestra\n",
    "\n",
    "\n",
    "## ¿Qué son la longitud y profundidad del pico?\n",
    "\n",
    "El pico se define como *\"La creata superior del pico de un ave\"*(definicion de Oxford Languages)."
   ]
  },
  {
   "cell_type": "markdown",
   "metadata": {},
   "source": [
    "# Pre-Requisitos\n",
    "\n",
    "- Importar los paquetes de Python necesarios\n"
   ]
  },
  {
   "cell_type": "code",
   "execution_count": 2,
   "metadata": {},
   "outputs": [],
   "source": [
    "import pandas as pd\n",
    "import numpy as np\n",
    "import matplotlib.pyplot as plt\n",
    "import seaborn as sns\n",
    "\n",
    "\n",
    "from colorama import Fore, Style, init\n",
    "from pprint import pprint\n",
    "\n",
    "import warnings\n",
    "warnings.filterwarnings('ignore')\n",
    "\n"
   ]
  },
  {
   "cell_type": "markdown",
   "metadata": {},
   "source": [
    "## Establecer apariencia general de los gráficos"
   ]
  },
  {
   "cell_type": "code",
   "execution_count": 3,
   "metadata": {},
   "outputs": [],
   "source": [
    "# Valores predefinodos para seaborn\n",
    "%matplotlib inline\n",
    "sns.set_theme(style=\"whitegrid\", context='notebook')\n",
    "plt.rcParams['figure.figsize'] = [12, 8]\n",
    "\n",
    "# Diccionario de colores de pinguinos\n",
    "penguin_colors = {\n",
    "    'Adelie': '#ff6602',\n",
    "    'Gentoo': '#0f7175',\n",
    "    'Chinstrap': '#c65dc9',\n",
    "}\n",
    "\n",
    "male_female_colors = {\n",
    "    \"female\": \"#fdcae1\",\n",
    "    \"male\": \"#caf5fd\"\n",
    "}"
   ]
  },
  {
   "cell_type": "code",
   "execution_count": 4,
   "metadata": {},
   "outputs": [],
   "source": [
    "# Color printing\n",
    "\n",
    "def PrintColor(text:str, color = Fore.BLUE, style = Style.BRIGHT):\n",
    "    \"\"\"Prints color outputs using colorama using a text F-string\n",
    "    Args:\n",
    "        text (str): _Using a string_\n",
    "        color (_type_, optional): Color. Defaults to Fore.BLUE.\n",
    "        Style (_type_, optional): _Tipos de estilo_. Defaults to Style.BRIGHT.\n",
    "    \"\"\"\n",
    "    print(style + color + text + Style.RESET_ALL);"
   ]
  },
  {
   "cell_type": "code",
   "execution_count": 48,
   "metadata": {},
   "outputs": [],
   "source": [
    "def resumen_data(df):\n",
    "    \"\"\"Crea mi resumen de los datos bonito a como me gustaria verlo en el notebook\n",
    "\n",
    "    Args:\n",
    "        df (pd.DataFrame): DataFrame for pandas\n",
    "    \"\"\"\n",
    "    resumen_df = pd.DataFrame(df.dtypes, columns=['Dtypes'])\n",
    "    resumen_df['missing#'] = df.isna().sum().values*100\n",
    "    resumen_df['missing%'] = (df.isna().sum().values*100) / len(df)\n",
    "    resumen_df['uniques'] = df.nunique().values\n",
    "    resumen_df['primer_valor'] = df.iloc[0].values\n",
    "    resumen_df['ultimo_valor'] = df.iloc[len(df)-1].values\n",
    "    resumen_df['count'] = df.count().values\n",
    "    desc = pd.DataFrame(df.describe().transpose())\n",
    "    resumen_df['min'] = desc['min']\n",
    "    resumen_df['max'] = desc['max']\n",
    "    resumen_df['mean'] = desc['mean']\n",
    "    resumen_df['median'] = desc['50%']\n",
    "    \n",
    "    return resumen_df"
   ]
  },
  {
   "cell_type": "markdown",
   "metadata": {},
   "source": [
    "# Cargando los datos"
   ]
  },
  {
   "cell_type": "code",
   "execution_count": 6,
   "metadata": {},
   "outputs": [],
   "source": [
    "df = pd.read_csv(\"../data/penguins.csv\")"
   ]
  },
  {
   "cell_type": "code",
   "execution_count": 7,
   "metadata": {},
   "outputs": [
    {
     "data": {
      "text/html": [
       "<style type=\"text/css\">\n",
       "#T_79493_row0_col0, #T_79493_row0_col1, #T_79493_row0_col2, #T_79493_row0_col3, #T_79493_row0_col4, #T_79493_row0_col5, #T_79493_row0_col6, #T_79493_row0_col7, #T_79493_row1_col0, #T_79493_row1_col1, #T_79493_row1_col2, #T_79493_row1_col3, #T_79493_row1_col4, #T_79493_row1_col5, #T_79493_row1_col6, #T_79493_row1_col7, #T_79493_row2_col0, #T_79493_row2_col1, #T_79493_row2_col2, #T_79493_row2_col3, #T_79493_row2_col4, #T_79493_row2_col5, #T_79493_row2_col6, #T_79493_row2_col7, #T_79493_row3_col0, #T_79493_row3_col1, #T_79493_row3_col2, #T_79493_row3_col3, #T_79493_row3_col4, #T_79493_row3_col5, #T_79493_row3_col6, #T_79493_row3_col7, #T_79493_row4_col0, #T_79493_row4_col1, #T_79493_row4_col2, #T_79493_row4_col3, #T_79493_row4_col4, #T_79493_row4_col5, #T_79493_row4_col6, #T_79493_row4_col7 {\n",
       "  border: 1.3px solid blue;\n",
       "  color: white;\n",
       "}\n",
       "</style>\n",
       "<table id=\"T_79493\">\n",
       "  <caption>Sample of the games data</caption>\n",
       "  <thead>\n",
       "    <tr>\n",
       "      <th class=\"blank level0\" >&nbsp;</th>\n",
       "      <th id=\"T_79493_level0_col0\" class=\"col_heading level0 col0\" >species</th>\n",
       "      <th id=\"T_79493_level0_col1\" class=\"col_heading level0 col1\" >island</th>\n",
       "      <th id=\"T_79493_level0_col2\" class=\"col_heading level0 col2\" >bill_length_mm</th>\n",
       "      <th id=\"T_79493_level0_col3\" class=\"col_heading level0 col3\" >bill_depth_mm</th>\n",
       "      <th id=\"T_79493_level0_col4\" class=\"col_heading level0 col4\" >flipper_length_mm</th>\n",
       "      <th id=\"T_79493_level0_col5\" class=\"col_heading level0 col5\" >body_mass_g</th>\n",
       "      <th id=\"T_79493_level0_col6\" class=\"col_heading level0 col6\" >sex</th>\n",
       "      <th id=\"T_79493_level0_col7\" class=\"col_heading level0 col7\" >year</th>\n",
       "    </tr>\n",
       "  </thead>\n",
       "  <tbody>\n",
       "    <tr>\n",
       "      <th id=\"T_79493_level0_row0\" class=\"row_heading level0 row0\" >0</th>\n",
       "      <td id=\"T_79493_row0_col0\" class=\"data row0 col0\" >Adelie</td>\n",
       "      <td id=\"T_79493_row0_col1\" class=\"data row0 col1\" >Torgersen</td>\n",
       "      <td id=\"T_79493_row0_col2\" class=\"data row0 col2\" >39.100000</td>\n",
       "      <td id=\"T_79493_row0_col3\" class=\"data row0 col3\" >18.700000</td>\n",
       "      <td id=\"T_79493_row0_col4\" class=\"data row0 col4\" >181.000000</td>\n",
       "      <td id=\"T_79493_row0_col5\" class=\"data row0 col5\" >3750.000000</td>\n",
       "      <td id=\"T_79493_row0_col6\" class=\"data row0 col6\" >male</td>\n",
       "      <td id=\"T_79493_row0_col7\" class=\"data row0 col7\" >2007</td>\n",
       "    </tr>\n",
       "    <tr>\n",
       "      <th id=\"T_79493_level0_row1\" class=\"row_heading level0 row1\" >1</th>\n",
       "      <td id=\"T_79493_row1_col0\" class=\"data row1 col0\" >Adelie</td>\n",
       "      <td id=\"T_79493_row1_col1\" class=\"data row1 col1\" >Torgersen</td>\n",
       "      <td id=\"T_79493_row1_col2\" class=\"data row1 col2\" >39.500000</td>\n",
       "      <td id=\"T_79493_row1_col3\" class=\"data row1 col3\" >17.400000</td>\n",
       "      <td id=\"T_79493_row1_col4\" class=\"data row1 col4\" >186.000000</td>\n",
       "      <td id=\"T_79493_row1_col5\" class=\"data row1 col5\" >3800.000000</td>\n",
       "      <td id=\"T_79493_row1_col6\" class=\"data row1 col6\" >female</td>\n",
       "      <td id=\"T_79493_row1_col7\" class=\"data row1 col7\" >2007</td>\n",
       "    </tr>\n",
       "    <tr>\n",
       "      <th id=\"T_79493_level0_row2\" class=\"row_heading level0 row2\" >2</th>\n",
       "      <td id=\"T_79493_row2_col0\" class=\"data row2 col0\" >Adelie</td>\n",
       "      <td id=\"T_79493_row2_col1\" class=\"data row2 col1\" >Torgersen</td>\n",
       "      <td id=\"T_79493_row2_col2\" class=\"data row2 col2\" >40.300000</td>\n",
       "      <td id=\"T_79493_row2_col3\" class=\"data row2 col3\" >18.000000</td>\n",
       "      <td id=\"T_79493_row2_col4\" class=\"data row2 col4\" >195.000000</td>\n",
       "      <td id=\"T_79493_row2_col5\" class=\"data row2 col5\" >3250.000000</td>\n",
       "      <td id=\"T_79493_row2_col6\" class=\"data row2 col6\" >female</td>\n",
       "      <td id=\"T_79493_row2_col7\" class=\"data row2 col7\" >2007</td>\n",
       "    </tr>\n",
       "    <tr>\n",
       "      <th id=\"T_79493_level0_row3\" class=\"row_heading level0 row3\" >3</th>\n",
       "      <td id=\"T_79493_row3_col0\" class=\"data row3 col0\" >Adelie</td>\n",
       "      <td id=\"T_79493_row3_col1\" class=\"data row3 col1\" >Torgersen</td>\n",
       "      <td id=\"T_79493_row3_col2\" class=\"data row3 col2\" >nan</td>\n",
       "      <td id=\"T_79493_row3_col3\" class=\"data row3 col3\" >nan</td>\n",
       "      <td id=\"T_79493_row3_col4\" class=\"data row3 col4\" >nan</td>\n",
       "      <td id=\"T_79493_row3_col5\" class=\"data row3 col5\" >nan</td>\n",
       "      <td id=\"T_79493_row3_col6\" class=\"data row3 col6\" >nan</td>\n",
       "      <td id=\"T_79493_row3_col7\" class=\"data row3 col7\" >2007</td>\n",
       "    </tr>\n",
       "    <tr>\n",
       "      <th id=\"T_79493_level0_row4\" class=\"row_heading level0 row4\" >4</th>\n",
       "      <td id=\"T_79493_row4_col0\" class=\"data row4 col0\" >Adelie</td>\n",
       "      <td id=\"T_79493_row4_col1\" class=\"data row4 col1\" >Torgersen</td>\n",
       "      <td id=\"T_79493_row4_col2\" class=\"data row4 col2\" >36.700000</td>\n",
       "      <td id=\"T_79493_row4_col3\" class=\"data row4 col3\" >19.300000</td>\n",
       "      <td id=\"T_79493_row4_col4\" class=\"data row4 col4\" >193.000000</td>\n",
       "      <td id=\"T_79493_row4_col5\" class=\"data row4 col5\" >3450.000000</td>\n",
       "      <td id=\"T_79493_row4_col6\" class=\"data row4 col6\" >female</td>\n",
       "      <td id=\"T_79493_row4_col7\" class=\"data row4 col7\" >2007</td>\n",
       "    </tr>\n",
       "  </tbody>\n",
       "</table>\n"
      ],
      "text/plain": [
       "<pandas.io.formats.style.Styler at 0x7f4c98e03250>"
      ]
     },
     "execution_count": 7,
     "metadata": {},
     "output_type": "execute_result"
    }
   ],
   "source": [
    "df.head().style.set_caption(\"Sample of the games data\").set_properties(**{'border': '1.3px solid blue', 'color': 'white'})"
   ]
  },
  {
   "cell_type": "code",
   "execution_count": 8,
   "metadata": {},
   "outputs": [
    {
     "name": "stdout",
     "output_type": "stream",
     "text": [
      "<class 'pandas.core.frame.DataFrame'>\n",
      "RangeIndex: 344 entries, 0 to 343\n",
      "Data columns (total 8 columns):\n",
      " #   Column             Non-Null Count  Dtype  \n",
      "---  ------             --------------  -----  \n",
      " 0   species            344 non-null    object \n",
      " 1   island             344 non-null    object \n",
      " 2   bill_length_mm     342 non-null    float64\n",
      " 3   bill_depth_mm      342 non-null    float64\n",
      " 4   flipper_length_mm  342 non-null    float64\n",
      " 5   body_mass_g        342 non-null    float64\n",
      " 6   sex                333 non-null    object \n",
      " 7   year               344 non-null    int64  \n",
      "dtypes: float64(4), int64(1), object(3)\n",
      "memory usage: 21.6+ KB\n"
     ]
    }
   ],
   "source": [
    "# Vistazo rapido al dataset\n",
    "df.info()"
   ]
  },
  {
   "cell_type": "markdown",
   "metadata": {},
   "source": [
    "Mostrare los cinco registros superiores del archivo"
   ]
  },
  {
   "cell_type": "markdown",
   "metadata": {},
   "source": [
    "# Colecta y validación de datos"
   ]
  },
  {
   "cell_type": "markdown",
   "metadata": {},
   "source": [
    "## ¿Cuántas variables y observaciones tenemos en el conjunto de datos?"
   ]
  },
  {
   "cell_type": "code",
   "execution_count": 9,
   "metadata": {},
   "outputs": [
    {
     "data": {
      "text/plain": [
       "(344, 8)"
      ]
     },
     "execution_count": 9,
     "metadata": {},
     "output_type": "execute_result"
    }
   ],
   "source": [
    "df.shape"
   ]
  },
  {
   "cell_type": "markdown",
   "metadata": {},
   "source": [
    "Tenemos:\n",
    "\n",
    "- **334** Observaciones --> *Filas*\n",
    "\n",
    "- **8** Variables --> *Columnas*"
   ]
  },
  {
   "cell_type": "markdown",
   "metadata": {},
   "source": [
    "## ¿Qué tipo de dato son las variables del conjunto de datos?"
   ]
  },
  {
   "cell_type": "code",
   "execution_count": 10,
   "metadata": {},
   "outputs": [
    {
     "data": {
      "text/plain": [
       "array(['species', 'island', 'bill_length_mm', 'bill_depth_mm',\n",
       "       'flipper_length_mm', 'body_mass_g', 'sex', 'year'], dtype=object)"
      ]
     },
     "execution_count": 10,
     "metadata": {},
     "output_type": "execute_result"
    }
   ],
   "source": [
    "df.columns.values"
   ]
  },
  {
   "cell_type": "code",
   "execution_count": 11,
   "metadata": {},
   "outputs": [
    {
     "data": {
      "text/plain": [
       "species               object\n",
       "island                object\n",
       "bill_length_mm       float64\n",
       "bill_depth_mm        float64\n",
       "flipper_length_mm    float64\n",
       "body_mass_g          float64\n",
       "sex                   object\n",
       "year                   int64\n",
       "dtype: object"
      ]
     },
     "execution_count": 11,
     "metadata": {},
     "output_type": "execute_result"
    }
   ],
   "source": [
    "df.dtypes"
   ]
  },
  {
   "cell_type": "markdown",
   "metadata": {},
   "source": [
    "### Variables:\n",
    "\n",
    "- **species**         *object*\n",
    "\n",
    "- **island**                *object*\n",
    "\n",
    "- **bill_length_mm**       *float64*\n",
    "\n",
    "- **bill_depth_mm**        *float64*\n",
    "\n",
    "- **flipper_length_mm**    *float64*\n",
    "\n",
    "- **body_mass_g**         *float64*\n",
    "\n",
    "- **sex**                   *object*\n",
    "\n",
    "- **year**                   *int64*"
   ]
  },
  {
   "cell_type": "markdown",
   "metadata": {},
   "source": [
    "## ¿Cuántas variables de cada tipo de dato tenemos en el conjunto de datos?"
   ]
  },
  {
   "cell_type": "code",
   "execution_count": 12,
   "metadata": {},
   "outputs": [
    {
     "data": {
      "text/plain": [
       "float64    4\n",
       "object     3\n",
       "int64      1\n",
       "Name: count, dtype: int64"
      ]
     },
     "execution_count": 12,
     "metadata": {},
     "output_type": "execute_result"
    }
   ],
   "source": [
    "df.dtypes.value_counts()"
   ]
  },
  {
   "cell_type": "markdown",
   "metadata": {},
   "source": [
    "Encontramos:\n",
    "\n",
    "- 1 variables de tipo entero\n",
    "\n",
    "- 4 variables de tipo decimal.\n",
    "\n",
    "- 3 variables de tipo categorica\n"
   ]
  },
  {
   "cell_type": "markdown",
   "metadata": {},
   "source": [
    "Revisando las estadisticas descriptivas de las variables numericas"
   ]
  },
  {
   "cell_type": "code",
   "execution_count": 13,
   "metadata": {},
   "outputs": [
    {
     "data": {
      "text/html": [
       "<div>\n",
       "<style scoped>\n",
       "    .dataframe tbody tr th:only-of-type {\n",
       "        vertical-align: middle;\n",
       "    }\n",
       "\n",
       "    .dataframe tbody tr th {\n",
       "        vertical-align: top;\n",
       "    }\n",
       "\n",
       "    .dataframe thead th {\n",
       "        text-align: right;\n",
       "    }\n",
       "</style>\n",
       "<table border=\"1\" class=\"dataframe\">\n",
       "  <thead>\n",
       "    <tr style=\"text-align: right;\">\n",
       "      <th></th>\n",
       "      <th>bill_length_mm</th>\n",
       "      <th>bill_depth_mm</th>\n",
       "      <th>flipper_length_mm</th>\n",
       "      <th>body_mass_g</th>\n",
       "      <th>year</th>\n",
       "    </tr>\n",
       "  </thead>\n",
       "  <tbody>\n",
       "    <tr>\n",
       "      <th>count</th>\n",
       "      <td>342.000000</td>\n",
       "      <td>342.000000</td>\n",
       "      <td>342.000000</td>\n",
       "      <td>342.000000</td>\n",
       "      <td>344.000000</td>\n",
       "    </tr>\n",
       "    <tr>\n",
       "      <th>mean</th>\n",
       "      <td>43.921930</td>\n",
       "      <td>17.151170</td>\n",
       "      <td>200.915205</td>\n",
       "      <td>4201.754386</td>\n",
       "      <td>2008.029070</td>\n",
       "    </tr>\n",
       "    <tr>\n",
       "      <th>std</th>\n",
       "      <td>5.459584</td>\n",
       "      <td>1.974793</td>\n",
       "      <td>14.061714</td>\n",
       "      <td>801.954536</td>\n",
       "      <td>0.818356</td>\n",
       "    </tr>\n",
       "    <tr>\n",
       "      <th>min</th>\n",
       "      <td>32.100000</td>\n",
       "      <td>13.100000</td>\n",
       "      <td>172.000000</td>\n",
       "      <td>2700.000000</td>\n",
       "      <td>2007.000000</td>\n",
       "    </tr>\n",
       "    <tr>\n",
       "      <th>25%</th>\n",
       "      <td>39.225000</td>\n",
       "      <td>15.600000</td>\n",
       "      <td>190.000000</td>\n",
       "      <td>3550.000000</td>\n",
       "      <td>2007.000000</td>\n",
       "    </tr>\n",
       "    <tr>\n",
       "      <th>50%</th>\n",
       "      <td>44.450000</td>\n",
       "      <td>17.300000</td>\n",
       "      <td>197.000000</td>\n",
       "      <td>4050.000000</td>\n",
       "      <td>2008.000000</td>\n",
       "    </tr>\n",
       "    <tr>\n",
       "      <th>75%</th>\n",
       "      <td>48.500000</td>\n",
       "      <td>18.700000</td>\n",
       "      <td>213.000000</td>\n",
       "      <td>4750.000000</td>\n",
       "      <td>2009.000000</td>\n",
       "    </tr>\n",
       "    <tr>\n",
       "      <th>max</th>\n",
       "      <td>59.600000</td>\n",
       "      <td>21.500000</td>\n",
       "      <td>231.000000</td>\n",
       "      <td>6300.000000</td>\n",
       "      <td>2009.000000</td>\n",
       "    </tr>\n",
       "  </tbody>\n",
       "</table>\n",
       "</div>"
      ],
      "text/plain": [
       "       bill_length_mm  bill_depth_mm  flipper_length_mm  body_mass_g  \\\n",
       "count      342.000000     342.000000         342.000000   342.000000   \n",
       "mean        43.921930      17.151170         200.915205  4201.754386   \n",
       "std          5.459584       1.974793          14.061714   801.954536   \n",
       "min         32.100000      13.100000         172.000000  2700.000000   \n",
       "25%         39.225000      15.600000         190.000000  3550.000000   \n",
       "50%         44.450000      17.300000         197.000000  4050.000000   \n",
       "75%         48.500000      18.700000         213.000000  4750.000000   \n",
       "max         59.600000      21.500000         231.000000  6300.000000   \n",
       "\n",
       "              year  \n",
       "count   344.000000  \n",
       "mean   2008.029070  \n",
       "std       0.818356  \n",
       "min    2007.000000  \n",
       "25%    2007.000000  \n",
       "50%    2008.000000  \n",
       "75%    2009.000000  \n",
       "max    2009.000000  "
      ]
     },
     "execution_count": 13,
     "metadata": {},
     "output_type": "execute_result"
    }
   ],
   "source": [
    "df.describe()"
   ]
  },
  {
   "cell_type": "code",
   "execution_count": 14,
   "metadata": {},
   "outputs": [
    {
     "data": {
      "text/html": [
       "<style type=\"text/css\">\n",
       "#T_d2a39_row0_col1, #T_d2a39_row0_col2, #T_d2a39_row1_col1, #T_d2a39_row1_col2, #T_d2a39_row3_col7, #T_d2a39_row3_col8, #T_d2a39_row3_col9, #T_d2a39_row6_col3, #T_d2a39_row6_col6, #T_d2a39_row7_col1, #T_d2a39_row7_col2 {\n",
       "  background-color: #0b0405;\n",
       "  color: #f1f1f1;\n",
       "}\n",
       "#T_d2a39_row0_col3, #T_d2a39_row1_col3, #T_d2a39_row2_col7, #T_d2a39_row2_col8, #T_d2a39_row2_col9, #T_d2a39_row7_col3 {\n",
       "  background-color: #0d0406;\n",
       "  color: #f1f1f1;\n",
       "}\n",
       "#T_d2a39_row0_col6, #T_d2a39_row1_col6, #T_d2a39_row2_col3, #T_d2a39_row5_col7, #T_d2a39_row5_col8, #T_d2a39_row5_col9, #T_d2a39_row6_col1, #T_d2a39_row6_col2, #T_d2a39_row7_col6 {\n",
       "  background-color: #def5e5;\n",
       "  color: #000000;\n",
       "}\n",
       "#T_d2a39_row0_col7, #T_d2a39_row0_col8, #T_d2a39_row0_col9, #T_d2a39_row1_col7, #T_d2a39_row1_col8, #T_d2a39_row1_col9, #T_d2a39_row6_col7, #T_d2a39_row6_col8, #T_d2a39_row6_col9 {\n",
       "  background-color: #000000;\n",
       "  color: #f1f1f1;\n",
       "}\n",
       "#T_d2a39_row2_col1, #T_d2a39_row2_col2, #T_d2a39_row3_col1, #T_d2a39_row3_col2, #T_d2a39_row4_col1, #T_d2a39_row4_col2, #T_d2a39_row5_col1, #T_d2a39_row5_col2 {\n",
       "  background-color: #35264c;\n",
       "  color: #f1f1f1;\n",
       "}\n",
       "#T_d2a39_row2_col6, #T_d2a39_row3_col6, #T_d2a39_row4_col6, #T_d2a39_row5_col6 {\n",
       "  background-color: #6dd3ad;\n",
       "  color: #000000;\n",
       "}\n",
       "#T_d2a39_row3_col3 {\n",
       "  background-color: #3575a1;\n",
       "  color: #f1f1f1;\n",
       "}\n",
       "#T_d2a39_row4_col3 {\n",
       "  background-color: #40478b;\n",
       "  color: #f1f1f1;\n",
       "}\n",
       "#T_d2a39_row4_col7 {\n",
       "  background-color: #1b0f1a;\n",
       "  color: #f1f1f1;\n",
       "}\n",
       "#T_d2a39_row4_col8 {\n",
       "  background-color: #140910;\n",
       "  color: #f1f1f1;\n",
       "}\n",
       "#T_d2a39_row4_col9 {\n",
       "  background-color: #170c15;\n",
       "  color: #f1f1f1;\n",
       "}\n",
       "#T_d2a39_row5_col3 {\n",
       "  background-color: #348ea7;\n",
       "  color: #f1f1f1;\n",
       "}\n",
       "#T_d2a39_row7_col7 {\n",
       "  background-color: #47bfad;\n",
       "  color: #000000;\n",
       "}\n",
       "#T_d2a39_row7_col8 {\n",
       "  background-color: #414488;\n",
       "  color: #f1f1f1;\n",
       "}\n",
       "#T_d2a39_row7_col9 {\n",
       "  background-color: #3573a1;\n",
       "  color: #f1f1f1;\n",
       "}\n",
       "</style>\n",
       "<table id=\"T_d2a39\">\n",
       "  <thead>\n",
       "    <tr>\n",
       "      <th class=\"blank level0\" >&nbsp;</th>\n",
       "      <th id=\"T_d2a39_level0_col0\" class=\"col_heading level0 col0\" >Tipos de datos</th>\n",
       "      <th id=\"T_d2a39_level0_col1\" class=\"col_heading level0 col1\" >missing#</th>\n",
       "      <th id=\"T_d2a39_level0_col2\" class=\"col_heading level0 col2\" >missing%</th>\n",
       "      <th id=\"T_d2a39_level0_col3\" class=\"col_heading level0 col3\" >uniques</th>\n",
       "      <th id=\"T_d2a39_level0_col4\" class=\"col_heading level0 col4\" >primer_valor</th>\n",
       "      <th id=\"T_d2a39_level0_col5\" class=\"col_heading level0 col5\" >ultimo_valor</th>\n",
       "      <th id=\"T_d2a39_level0_col6\" class=\"col_heading level0 col6\" >count</th>\n",
       "      <th id=\"T_d2a39_level0_col7\" class=\"col_heading level0 col7\" >min</th>\n",
       "      <th id=\"T_d2a39_level0_col8\" class=\"col_heading level0 col8\" >max</th>\n",
       "      <th id=\"T_d2a39_level0_col9\" class=\"col_heading level0 col9\" >mean</th>\n",
       "    </tr>\n",
       "  </thead>\n",
       "  <tbody>\n",
       "    <tr>\n",
       "      <th id=\"T_d2a39_level0_row0\" class=\"row_heading level0 row0\" >species</th>\n",
       "      <td id=\"T_d2a39_row0_col0\" class=\"data row0 col0\" >object</td>\n",
       "      <td id=\"T_d2a39_row0_col1\" class=\"data row0 col1\" >0</td>\n",
       "      <td id=\"T_d2a39_row0_col2\" class=\"data row0 col2\" >0.000000</td>\n",
       "      <td id=\"T_d2a39_row0_col3\" class=\"data row0 col3\" >3</td>\n",
       "      <td id=\"T_d2a39_row0_col4\" class=\"data row0 col4\" >Adelie</td>\n",
       "      <td id=\"T_d2a39_row0_col5\" class=\"data row0 col5\" >Chinstrap</td>\n",
       "      <td id=\"T_d2a39_row0_col6\" class=\"data row0 col6\" >344</td>\n",
       "      <td id=\"T_d2a39_row0_col7\" class=\"data row0 col7\" >nan</td>\n",
       "      <td id=\"T_d2a39_row0_col8\" class=\"data row0 col8\" >nan</td>\n",
       "      <td id=\"T_d2a39_row0_col9\" class=\"data row0 col9\" >nan</td>\n",
       "    </tr>\n",
       "    <tr>\n",
       "      <th id=\"T_d2a39_level0_row1\" class=\"row_heading level0 row1\" >island</th>\n",
       "      <td id=\"T_d2a39_row1_col0\" class=\"data row1 col0\" >object</td>\n",
       "      <td id=\"T_d2a39_row1_col1\" class=\"data row1 col1\" >0</td>\n",
       "      <td id=\"T_d2a39_row1_col2\" class=\"data row1 col2\" >0.000000</td>\n",
       "      <td id=\"T_d2a39_row1_col3\" class=\"data row1 col3\" >3</td>\n",
       "      <td id=\"T_d2a39_row1_col4\" class=\"data row1 col4\" >Torgersen</td>\n",
       "      <td id=\"T_d2a39_row1_col5\" class=\"data row1 col5\" >Dream</td>\n",
       "      <td id=\"T_d2a39_row1_col6\" class=\"data row1 col6\" >344</td>\n",
       "      <td id=\"T_d2a39_row1_col7\" class=\"data row1 col7\" >nan</td>\n",
       "      <td id=\"T_d2a39_row1_col8\" class=\"data row1 col8\" >nan</td>\n",
       "      <td id=\"T_d2a39_row1_col9\" class=\"data row1 col9\" >nan</td>\n",
       "    </tr>\n",
       "    <tr>\n",
       "      <th id=\"T_d2a39_level0_row2\" class=\"row_heading level0 row2\" >bill_length_mm</th>\n",
       "      <td id=\"T_d2a39_row2_col0\" class=\"data row2 col0\" >float64</td>\n",
       "      <td id=\"T_d2a39_row2_col1\" class=\"data row2 col1\" >200</td>\n",
       "      <td id=\"T_d2a39_row2_col2\" class=\"data row2 col2\" >0.581395</td>\n",
       "      <td id=\"T_d2a39_row2_col3\" class=\"data row2 col3\" >164</td>\n",
       "      <td id=\"T_d2a39_row2_col4\" class=\"data row2 col4\" >39.100000</td>\n",
       "      <td id=\"T_d2a39_row2_col5\" class=\"data row2 col5\" >50.200000</td>\n",
       "      <td id=\"T_d2a39_row2_col6\" class=\"data row2 col6\" >342</td>\n",
       "      <td id=\"T_d2a39_row2_col7\" class=\"data row2 col7\" >32.100000</td>\n",
       "      <td id=\"T_d2a39_row2_col8\" class=\"data row2 col8\" >59.600000</td>\n",
       "      <td id=\"T_d2a39_row2_col9\" class=\"data row2 col9\" >43.921930</td>\n",
       "    </tr>\n",
       "    <tr>\n",
       "      <th id=\"T_d2a39_level0_row3\" class=\"row_heading level0 row3\" >bill_depth_mm</th>\n",
       "      <td id=\"T_d2a39_row3_col0\" class=\"data row3 col0\" >float64</td>\n",
       "      <td id=\"T_d2a39_row3_col1\" class=\"data row3 col1\" >200</td>\n",
       "      <td id=\"T_d2a39_row3_col2\" class=\"data row3 col2\" >0.581395</td>\n",
       "      <td id=\"T_d2a39_row3_col3\" class=\"data row3 col3\" >80</td>\n",
       "      <td id=\"T_d2a39_row3_col4\" class=\"data row3 col4\" >18.700000</td>\n",
       "      <td id=\"T_d2a39_row3_col5\" class=\"data row3 col5\" >18.700000</td>\n",
       "      <td id=\"T_d2a39_row3_col6\" class=\"data row3 col6\" >342</td>\n",
       "      <td id=\"T_d2a39_row3_col7\" class=\"data row3 col7\" >13.100000</td>\n",
       "      <td id=\"T_d2a39_row3_col8\" class=\"data row3 col8\" >21.500000</td>\n",
       "      <td id=\"T_d2a39_row3_col9\" class=\"data row3 col9\" >17.151170</td>\n",
       "    </tr>\n",
       "    <tr>\n",
       "      <th id=\"T_d2a39_level0_row4\" class=\"row_heading level0 row4\" >flipper_length_mm</th>\n",
       "      <td id=\"T_d2a39_row4_col0\" class=\"data row4 col0\" >float64</td>\n",
       "      <td id=\"T_d2a39_row4_col1\" class=\"data row4 col1\" >200</td>\n",
       "      <td id=\"T_d2a39_row4_col2\" class=\"data row4 col2\" >0.581395</td>\n",
       "      <td id=\"T_d2a39_row4_col3\" class=\"data row4 col3\" >55</td>\n",
       "      <td id=\"T_d2a39_row4_col4\" class=\"data row4 col4\" >181.000000</td>\n",
       "      <td id=\"T_d2a39_row4_col5\" class=\"data row4 col5\" >198.000000</td>\n",
       "      <td id=\"T_d2a39_row4_col6\" class=\"data row4 col6\" >342</td>\n",
       "      <td id=\"T_d2a39_row4_col7\" class=\"data row4 col7\" >172.000000</td>\n",
       "      <td id=\"T_d2a39_row4_col8\" class=\"data row4 col8\" >231.000000</td>\n",
       "      <td id=\"T_d2a39_row4_col9\" class=\"data row4 col9\" >200.915205</td>\n",
       "    </tr>\n",
       "    <tr>\n",
       "      <th id=\"T_d2a39_level0_row5\" class=\"row_heading level0 row5\" >body_mass_g</th>\n",
       "      <td id=\"T_d2a39_row5_col0\" class=\"data row5 col0\" >float64</td>\n",
       "      <td id=\"T_d2a39_row5_col1\" class=\"data row5 col1\" >200</td>\n",
       "      <td id=\"T_d2a39_row5_col2\" class=\"data row5 col2\" >0.581395</td>\n",
       "      <td id=\"T_d2a39_row5_col3\" class=\"data row5 col3\" >94</td>\n",
       "      <td id=\"T_d2a39_row5_col4\" class=\"data row5 col4\" >3750.000000</td>\n",
       "      <td id=\"T_d2a39_row5_col5\" class=\"data row5 col5\" >3775.000000</td>\n",
       "      <td id=\"T_d2a39_row5_col6\" class=\"data row5 col6\" >342</td>\n",
       "      <td id=\"T_d2a39_row5_col7\" class=\"data row5 col7\" >2700.000000</td>\n",
       "      <td id=\"T_d2a39_row5_col8\" class=\"data row5 col8\" >6300.000000</td>\n",
       "      <td id=\"T_d2a39_row5_col9\" class=\"data row5 col9\" >4201.754386</td>\n",
       "    </tr>\n",
       "    <tr>\n",
       "      <th id=\"T_d2a39_level0_row6\" class=\"row_heading level0 row6\" >sex</th>\n",
       "      <td id=\"T_d2a39_row6_col0\" class=\"data row6 col0\" >object</td>\n",
       "      <td id=\"T_d2a39_row6_col1\" class=\"data row6 col1\" >1100</td>\n",
       "      <td id=\"T_d2a39_row6_col2\" class=\"data row6 col2\" >3.197674</td>\n",
       "      <td id=\"T_d2a39_row6_col3\" class=\"data row6 col3\" >2</td>\n",
       "      <td id=\"T_d2a39_row6_col4\" class=\"data row6 col4\" >male</td>\n",
       "      <td id=\"T_d2a39_row6_col5\" class=\"data row6 col5\" >female</td>\n",
       "      <td id=\"T_d2a39_row6_col6\" class=\"data row6 col6\" >333</td>\n",
       "      <td id=\"T_d2a39_row6_col7\" class=\"data row6 col7\" >nan</td>\n",
       "      <td id=\"T_d2a39_row6_col8\" class=\"data row6 col8\" >nan</td>\n",
       "      <td id=\"T_d2a39_row6_col9\" class=\"data row6 col9\" >nan</td>\n",
       "    </tr>\n",
       "    <tr>\n",
       "      <th id=\"T_d2a39_level0_row7\" class=\"row_heading level0 row7\" >year</th>\n",
       "      <td id=\"T_d2a39_row7_col0\" class=\"data row7 col0\" >int64</td>\n",
       "      <td id=\"T_d2a39_row7_col1\" class=\"data row7 col1\" >0</td>\n",
       "      <td id=\"T_d2a39_row7_col2\" class=\"data row7 col2\" >0.000000</td>\n",
       "      <td id=\"T_d2a39_row7_col3\" class=\"data row7 col3\" >3</td>\n",
       "      <td id=\"T_d2a39_row7_col4\" class=\"data row7 col4\" >2007</td>\n",
       "      <td id=\"T_d2a39_row7_col5\" class=\"data row7 col5\" >2009</td>\n",
       "      <td id=\"T_d2a39_row7_col6\" class=\"data row7 col6\" >344</td>\n",
       "      <td id=\"T_d2a39_row7_col7\" class=\"data row7 col7\" >2007.000000</td>\n",
       "      <td id=\"T_d2a39_row7_col8\" class=\"data row7 col8\" >2009.000000</td>\n",
       "      <td id=\"T_d2a39_row7_col9\" class=\"data row7 col9\" >2008.029070</td>\n",
       "    </tr>\n",
       "  </tbody>\n",
       "</table>\n"
      ],
      "text/plain": [
       "<pandas.io.formats.style.Styler at 0x7f4c98aea740>"
      ]
     },
     "execution_count": 14,
     "metadata": {},
     "output_type": "execute_result"
    }
   ],
   "source": [
    "# Resumen completo de mi dataset\n",
    "resumen_data(df).style.background_gradient(cmap='mako')"
   ]
  },
  {
   "cell_type": "markdown",
   "metadata": {},
   "source": [
    "- La informacion acerca de la **`longitud del pico`**: Esta entre: *32.10 mm* y *59.60 mm* teniendo una **media** de *43.92 mm*\n",
    "- La informacion acerca de la **`profundidad del pico`**: Esta entre: *13.10 mm* y *21.50 mm* teniendo una **media** de *17.15 mm*\n",
    "\n",
    "- La informacion acerca de la **`longitud de la aleta`**: Esta entre: *172.00 mm* y *231.00 mm* teniendo una **media** de *200.91 mm*\n",
    "\n",
    "- Tenemos `164`observaciones de pinguinos con **`Longitud del pico`**: Diferente\n"
   ]
  },
  {
   "cell_type": "markdown",
   "metadata": {},
   "source": [
    "## ¿Existen valores nulos explicitos en el conjunto de datos?"
   ]
  },
  {
   "cell_type": "code",
   "execution_count": 15,
   "metadata": {},
   "outputs": [
    {
     "data": {
      "text/plain": [
       "species              False\n",
       "island               False\n",
       "bill_length_mm        True\n",
       "bill_depth_mm         True\n",
       "flipper_length_mm     True\n",
       "body_mass_g           True\n",
       "sex                   True\n",
       "year                 False\n",
       "dtype: bool"
      ]
     },
     "execution_count": 15,
     "metadata": {},
     "output_type": "execute_result"
    }
   ],
   "source": [
    "df.isna().any()"
   ]
  },
  {
   "cell_type": "markdown",
   "metadata": {},
   "source": [
    "- Encontramos datos faltantes en la siguentes columnas **`['bill_length_mm', 'bill_depth_mm', 'flipper_length_mm', 'body_mass_g', 'sex']`**"
   ]
  },
  {
   "cell_type": "markdown",
   "metadata": {},
   "source": [
    "## De tener observaciones con valores nulos, ¿cuántas tenemos por cada variable?"
   ]
  },
  {
   "cell_type": "code",
   "execution_count": 16,
   "metadata": {},
   "outputs": [
    {
     "data": {
      "text/plain": [
       "sex                  11\n",
       "bill_length_mm        2\n",
       "bill_depth_mm         2\n",
       "flipper_length_mm     2\n",
       "body_mass_g           2\n",
       "species               0\n",
       "island                0\n",
       "year                  0\n",
       "dtype: int64"
      ]
     },
     "execution_count": 16,
     "metadata": {},
     "output_type": "execute_result"
    }
   ],
   "source": [
    "df.isna().sum().sort_values(ascending=False)"
   ]
  },
  {
   "cell_type": "markdown",
   "metadata": {},
   "source": [
    "- Encontramos datos faltantes en la siguentes variables:\n",
    "\n",
    "- **'sex'**: 11\n",
    "\n",
    "- **'bill_length_mm'**: 2\n",
    "\n",
    "- **'bill_depth_mm'**: 2\n",
    "\n",
    "- **'flipper_length_mm'**: 2\n",
    "\n",
    "- **body_mass_g**: 2"
   ]
  },
  {
   "cell_type": "markdown",
   "metadata": {},
   "source": [
    "## ¿Cuántos valores nulos tenemos en total en el conjunto de datos?"
   ]
  },
  {
   "cell_type": "code",
   "execution_count": 17,
   "metadata": {},
   "outputs": [
    {
     "data": {
      "text/plain": [
       "19"
      ]
     },
     "execution_count": 17,
     "metadata": {},
     "output_type": "execute_result"
    }
   ],
   "source": [
    "df.isna().sum().sum()"
   ]
  },
  {
   "cell_type": "markdown",
   "metadata": {},
   "source": [
    "Tnemos **19 Valores Nulos en el dataset**"
   ]
  },
  {
   "cell_type": "markdown",
   "metadata": {},
   "source": [
    "## ¿Cuál es la proporción de valores nulos por cada variable?"
   ]
  },
  {
   "cell_type": "code",
   "execution_count": 18,
   "metadata": {},
   "outputs": [
    {
     "data": {
      "image/png": "[encoded data removed]",
      "text/plain": [
       "<Figure size 1093.5x500 with 1 Axes>"
      ]
     },
     "metadata": {},
     "output_type": "display_data"
    }
   ],
   "source": [
    "df.isna().melt(value_name=\"missing\").pipe(lambda df: (sns.displot(data=df, y='variable', hue='missing', multiple='fill', aspect=2)));"
   ]
  },
  {
   "cell_type": "code",
   "execution_count": 19,
   "metadata": {},
   "outputs": [
    {
     "data": {
      "image/png": "[encoded data removed]",
      "text/plain": [
       "<Figure size 1600x500 with 1 Axes>"
      ]
     },
     "metadata": {},
     "output_type": "display_data"
    }
   ],
   "source": [
    "# DATAFRAME valores faltantes\n",
    "missing = pd.DataFrame((df.isna().sum())*100 / df.shape[0]).reset_index()\n",
    "# Grafica\n",
    "plt.figure(figsize=(16, 5))\n",
    "ax = sns.pointplot(x='index', y=0, data=missing, color='blue')\n",
    "plt.xticks(rotation=90)\n",
    "plt.title(\"Porcentaje de valores FALTANTES\")\n",
    "plt.ylabel(\"PORCENTAJE\")\n",
    "plt.show()"
   ]
  },
  {
   "cell_type": "markdown",
   "metadata": {},
   "source": [
    "**Porporciones de los datos faltantes**\n",
    "\n",
    "- **'bill_length_mm'**: 0.581%\n",
    "\n",
    "- **'bill_depth_mm'**: 0.581%\n",
    "\n",
    "- **'flipper_length_mm'**: 0.581%\n",
    "\n",
    "- **body_mass_g**: 0.581%\n",
    "\n",
    "- **'sex'**: 3.197%\n",
    "\n",
    "- ***Total***: 5.523%"
   ]
  },
  {
   "cell_type": "markdown",
   "metadata": {},
   "source": [
    "## ¿Cómo podemos visualizar los valores nulos en todo el conjunto de datos?"
   ]
  },
  {
   "cell_type": "code",
   "execution_count": 20,
   "metadata": {},
   "outputs": [
    {
     "data": {
      "image/png": "[encoded data removed]",
      "text/plain": [
       "<Figure size 1200x800 with 2 Axes>"
      ]
     },
     "metadata": {},
     "output_type": "display_data"
    }
   ],
   "source": [
    "df.isna().transpose().pipe(lambda df: (sns.heatmap(data=df)));"
   ]
  },
  {
   "cell_type": "markdown",
   "metadata": {},
   "source": [
    "# Tratamiento Inicial de Valores Faltantes\n",
    "\n",
    "## General Thumb Rules:\n",
    "\n",
    "- Para características con pocos valores faltantes, puedes utilizar la regresión para predecir los valores perdidos o llenarlos con la media de los valores presentes, dependiendo de la función en cuestión.\n",
    "\n",
    "- Para aquellas características con un gran número de valores faltantes, resulta mejor eliminar dichas columnas ya que arrojan muy poca información útil durante el análisis.\n",
    "\n",
    "- Dado que no hay una regla práctica específica sobre qué criterio emplear para eliminar columnas con un gran número de valores faltantes, generalmente puede optar por eliminarlas cuando éstas representan más del 30-40% de los mismos. Sin embargo, cabe señalar que pueden existir casos particulares donde tales decisiones deben ser tomadas sabiamente."
   ]
  },
  {
   "cell_type": "markdown",
   "metadata": {},
   "source": [
    "1. Creamos una copia de nuestro dataset base para poder manipularlo y procesarlo"
   ]
  },
  {
   "cell_type": "code",
   "execution_count": 21,
   "metadata": {},
   "outputs": [],
   "source": [
    "processing_df = df.copy()"
   ]
  },
  {
   "cell_type": "code",
   "execution_count": 22,
   "metadata": {},
   "outputs": [
    {
     "data": {
      "text/html": [
       "<div>\n",
       "<style scoped>\n",
       "    .dataframe tbody tr th:only-of-type {\n",
       "        vertical-align: middle;\n",
       "    }\n",
       "\n",
       "    .dataframe tbody tr th {\n",
       "        vertical-align: top;\n",
       "    }\n",
       "\n",
       "    .dataframe thead th {\n",
       "        text-align: right;\n",
       "    }\n",
       "</style>\n",
       "<table border=\"1\" class=\"dataframe\">\n",
       "  <thead>\n",
       "    <tr style=\"text-align: right;\">\n",
       "      <th></th>\n",
       "      <th>species</th>\n",
       "      <th>island</th>\n",
       "      <th>bill_length_mm</th>\n",
       "      <th>bill_depth_mm</th>\n",
       "      <th>flipper_length_mm</th>\n",
       "      <th>body_mass_g</th>\n",
       "      <th>sex</th>\n",
       "      <th>year</th>\n",
       "    </tr>\n",
       "  </thead>\n",
       "  <tbody>\n",
       "    <tr>\n",
       "      <th>0</th>\n",
       "      <td>Adelie</td>\n",
       "      <td>Torgersen</td>\n",
       "      <td>39.1</td>\n",
       "      <td>18.7</td>\n",
       "      <td>181.0</td>\n",
       "      <td>3750.0</td>\n",
       "      <td>male</td>\n",
       "      <td>2007</td>\n",
       "    </tr>\n",
       "    <tr>\n",
       "      <th>1</th>\n",
       "      <td>Adelie</td>\n",
       "      <td>Torgersen</td>\n",
       "      <td>39.5</td>\n",
       "      <td>17.4</td>\n",
       "      <td>186.0</td>\n",
       "      <td>3800.0</td>\n",
       "      <td>female</td>\n",
       "      <td>2007</td>\n",
       "    </tr>\n",
       "    <tr>\n",
       "      <th>2</th>\n",
       "      <td>Adelie</td>\n",
       "      <td>Torgersen</td>\n",
       "      <td>40.3</td>\n",
       "      <td>18.0</td>\n",
       "      <td>195.0</td>\n",
       "      <td>3250.0</td>\n",
       "      <td>female</td>\n",
       "      <td>2007</td>\n",
       "    </tr>\n",
       "    <tr>\n",
       "      <th>3</th>\n",
       "      <td>Adelie</td>\n",
       "      <td>Torgersen</td>\n",
       "      <td>NaN</td>\n",
       "      <td>NaN</td>\n",
       "      <td>NaN</td>\n",
       "      <td>NaN</td>\n",
       "      <td>NaN</td>\n",
       "      <td>2007</td>\n",
       "    </tr>\n",
       "    <tr>\n",
       "      <th>4</th>\n",
       "      <td>Adelie</td>\n",
       "      <td>Torgersen</td>\n",
       "      <td>36.7</td>\n",
       "      <td>19.3</td>\n",
       "      <td>193.0</td>\n",
       "      <td>3450.0</td>\n",
       "      <td>female</td>\n",
       "      <td>2007</td>\n",
       "    </tr>\n",
       "  </tbody>\n",
       "</table>\n",
       "</div>"
      ],
      "text/plain": [
       "  species     island  bill_length_mm  bill_depth_mm  flipper_length_mm  \\\n",
       "0  Adelie  Torgersen            39.1           18.7              181.0   \n",
       "1  Adelie  Torgersen            39.5           17.4              186.0   \n",
       "2  Adelie  Torgersen            40.3           18.0              195.0   \n",
       "3  Adelie  Torgersen             NaN            NaN                NaN   \n",
       "4  Adelie  Torgersen            36.7           19.3              193.0   \n",
       "\n",
       "   body_mass_g     sex  year  \n",
       "0       3750.0    male  2007  \n",
       "1       3800.0  female  2007  \n",
       "2       3250.0  female  2007  \n",
       "3          NaN     NaN  2007  \n",
       "4       3450.0  female  2007  "
      ]
     },
     "execution_count": 22,
     "metadata": {},
     "output_type": "execute_result"
    }
   ],
   "source": [
    "processing_df.head()"
   ]
  },
  {
   "cell_type": "markdown",
   "metadata": {},
   "source": [
    "## ¿Cuántas observaciones perdemos si eliminamos los datos faltantes?"
   ]
  },
  {
   "cell_type": "code",
   "execution_count": 23,
   "metadata": {},
   "outputs": [
    {
     "data": {
      "text/html": [
       "<div>\n",
       "<style scoped>\n",
       "    .dataframe tbody tr th:only-of-type {\n",
       "        vertical-align: middle;\n",
       "    }\n",
       "\n",
       "    .dataframe tbody tr th {\n",
       "        vertical-align: top;\n",
       "    }\n",
       "\n",
       "    .dataframe thead th {\n",
       "        text-align: right;\n",
       "    }\n",
       "</style>\n",
       "<table border=\"1\" class=\"dataframe\">\n",
       "  <thead>\n",
       "    <tr style=\"text-align: right;\">\n",
       "      <th></th>\n",
       "      <th>species</th>\n",
       "      <th>island</th>\n",
       "      <th>bill_length_mm</th>\n",
       "      <th>bill_depth_mm</th>\n",
       "      <th>flipper_length_mm</th>\n",
       "      <th>body_mass_g</th>\n",
       "      <th>sex</th>\n",
       "      <th>year</th>\n",
       "    </tr>\n",
       "  </thead>\n",
       "  <tbody>\n",
       "    <tr>\n",
       "      <th>0</th>\n",
       "      <td>Adelie</td>\n",
       "      <td>Torgersen</td>\n",
       "      <td>39.1</td>\n",
       "      <td>18.7</td>\n",
       "      <td>181.0</td>\n",
       "      <td>3750.0</td>\n",
       "      <td>male</td>\n",
       "      <td>2007</td>\n",
       "    </tr>\n",
       "    <tr>\n",
       "      <th>1</th>\n",
       "      <td>Adelie</td>\n",
       "      <td>Torgersen</td>\n",
       "      <td>39.5</td>\n",
       "      <td>17.4</td>\n",
       "      <td>186.0</td>\n",
       "      <td>3800.0</td>\n",
       "      <td>female</td>\n",
       "      <td>2007</td>\n",
       "    </tr>\n",
       "    <tr>\n",
       "      <th>2</th>\n",
       "      <td>Adelie</td>\n",
       "      <td>Torgersen</td>\n",
       "      <td>40.3</td>\n",
       "      <td>18.0</td>\n",
       "      <td>195.0</td>\n",
       "      <td>3250.0</td>\n",
       "      <td>female</td>\n",
       "      <td>2007</td>\n",
       "    </tr>\n",
       "    <tr>\n",
       "      <th>4</th>\n",
       "      <td>Adelie</td>\n",
       "      <td>Torgersen</td>\n",
       "      <td>36.7</td>\n",
       "      <td>19.3</td>\n",
       "      <td>193.0</td>\n",
       "      <td>3450.0</td>\n",
       "      <td>female</td>\n",
       "      <td>2007</td>\n",
       "    </tr>\n",
       "    <tr>\n",
       "      <th>5</th>\n",
       "      <td>Adelie</td>\n",
       "      <td>Torgersen</td>\n",
       "      <td>39.3</td>\n",
       "      <td>20.6</td>\n",
       "      <td>190.0</td>\n",
       "      <td>3650.0</td>\n",
       "      <td>male</td>\n",
       "      <td>2007</td>\n",
       "    </tr>\n",
       "    <tr>\n",
       "      <th>...</th>\n",
       "      <td>...</td>\n",
       "      <td>...</td>\n",
       "      <td>...</td>\n",
       "      <td>...</td>\n",
       "      <td>...</td>\n",
       "      <td>...</td>\n",
       "      <td>...</td>\n",
       "      <td>...</td>\n",
       "    </tr>\n",
       "    <tr>\n",
       "      <th>339</th>\n",
       "      <td>Chinstrap</td>\n",
       "      <td>Dream</td>\n",
       "      <td>55.8</td>\n",
       "      <td>19.8</td>\n",
       "      <td>207.0</td>\n",
       "      <td>4000.0</td>\n",
       "      <td>male</td>\n",
       "      <td>2009</td>\n",
       "    </tr>\n",
       "    <tr>\n",
       "      <th>340</th>\n",
       "      <td>Chinstrap</td>\n",
       "      <td>Dream</td>\n",
       "      <td>43.5</td>\n",
       "      <td>18.1</td>\n",
       "      <td>202.0</td>\n",
       "      <td>3400.0</td>\n",
       "      <td>female</td>\n",
       "      <td>2009</td>\n",
       "    </tr>\n",
       "    <tr>\n",
       "      <th>341</th>\n",
       "      <td>Chinstrap</td>\n",
       "      <td>Dream</td>\n",
       "      <td>49.6</td>\n",
       "      <td>18.2</td>\n",
       "      <td>193.0</td>\n",
       "      <td>3775.0</td>\n",
       "      <td>male</td>\n",
       "      <td>2009</td>\n",
       "    </tr>\n",
       "    <tr>\n",
       "      <th>342</th>\n",
       "      <td>Chinstrap</td>\n",
       "      <td>Dream</td>\n",
       "      <td>50.8</td>\n",
       "      <td>19.0</td>\n",
       "      <td>210.0</td>\n",
       "      <td>4100.0</td>\n",
       "      <td>male</td>\n",
       "      <td>2009</td>\n",
       "    </tr>\n",
       "    <tr>\n",
       "      <th>343</th>\n",
       "      <td>Chinstrap</td>\n",
       "      <td>Dream</td>\n",
       "      <td>50.2</td>\n",
       "      <td>18.7</td>\n",
       "      <td>198.0</td>\n",
       "      <td>3775.0</td>\n",
       "      <td>female</td>\n",
       "      <td>2009</td>\n",
       "    </tr>\n",
       "  </tbody>\n",
       "</table>\n",
       "<p>333 rows × 8 columns</p>\n",
       "</div>"
      ],
      "text/plain": [
       "       species     island  bill_length_mm  bill_depth_mm  flipper_length_mm  \\\n",
       "0       Adelie  Torgersen            39.1           18.7              181.0   \n",
       "1       Adelie  Torgersen            39.5           17.4              186.0   \n",
       "2       Adelie  Torgersen            40.3           18.0              195.0   \n",
       "4       Adelie  Torgersen            36.7           19.3              193.0   \n",
       "5       Adelie  Torgersen            39.3           20.6              190.0   \n",
       "..         ...        ...             ...            ...                ...   \n",
       "339  Chinstrap      Dream            55.8           19.8              207.0   \n",
       "340  Chinstrap      Dream            43.5           18.1              202.0   \n",
       "341  Chinstrap      Dream            49.6           18.2              193.0   \n",
       "342  Chinstrap      Dream            50.8           19.0              210.0   \n",
       "343  Chinstrap      Dream            50.2           18.7              198.0   \n",
       "\n",
       "     body_mass_g     sex  year  \n",
       "0         3750.0    male  2007  \n",
       "1         3800.0  female  2007  \n",
       "2         3250.0  female  2007  \n",
       "4         3450.0  female  2007  \n",
       "5         3650.0    male  2007  \n",
       "..           ...     ...   ...  \n",
       "339       4000.0    male  2009  \n",
       "340       3400.0  female  2009  \n",
       "341       3775.0    male  2009  \n",
       "342       4100.0    male  2009  \n",
       "343       3775.0  female  2009  \n",
       "\n",
       "[333 rows x 8 columns]"
      ]
     },
     "execution_count": 23,
     "metadata": {},
     "output_type": "execute_result"
    }
   ],
   "source": [
    "processed_df = processing_df.dropna()\n",
    "processed_df"
   ]
  },
  {
   "cell_type": "markdown",
   "metadata": {},
   "source": [
    "Nos quedan `333 Observaciones`\n",
    "\n",
    "Quitamos: `11 Observaciones al dataset`"
   ]
  },
  {
   "cell_type": "markdown",
   "metadata": {},
   "source": [
    "# Conteos y proporciones"
   ]
  },
  {
   "cell_type": "markdown",
   "metadata": {},
   "source": [
    "## Conteo y Proporciones en base a:`\"**ESPECIE DE PINGUINOS**\"`"
   ]
  },
  {
   "cell_type": "markdown",
   "metadata": {},
   "source": [
    "### ¿Cómo visualizar los conteos?"
   ]
  },
  {
   "cell_type": "code",
   "execution_count": 35,
   "metadata": {},
   "outputs": [
    {
     "data": {
      "image/png": "[encoded data removed]",
      "text/plain": [
       "<Figure size 500x500 with 1 Axes>"
      ]
     },
     "metadata": {},
     "output_type": "display_data"
    }
   ],
   "source": [
    "sns.catplot(data=processed_df, x='species', hue='species', kind='count', palette=penguin_colors)\n",
    "plt.title(\"Conteo de cada especie\")\n",
    "plt.show()"
   ]
  },
  {
   "cell_type": "markdown",
   "metadata": {},
   "source": [
    "### ¿Cómo visualizar las proporciones?"
   ]
  },
  {
   "cell_type": "code",
   "execution_count": 32,
   "metadata": {},
   "outputs": [],
   "source": [
    "colors_list = [penguin_colors[penguin_species] for penguin_species in penguin_colors]"
   ]
  },
  {
   "cell_type": "code",
   "execution_count": 38,
   "metadata": {},
   "outputs": [
    {
     "data": {
      "image/png": "[encoded data removed]",
      "text/plain": [
       "<Figure size 1200x800 with 1 Axes>"
      ]
     },
     "metadata": {},
     "output_type": "display_data"
    }
   ],
   "source": [
    "counts = processed_df['species'].value_counts().reset_index(name='counts')\n",
    "\n",
    "# Grafico de pie\n",
    "plt.pie(counts['counts'], labels=counts['species'], autopct='%1.1f%%', colors=colors_list)\n",
    "plt.title('Proporcion de pinguinos por Especie')\n",
    "plt.show()"
   ]
  },
  {
   "cell_type": "markdown",
   "metadata": {},
   "source": [
    "# Medidas de tendencia central"
   ]
  },
  {
   "cell_type": "code",
   "execution_count": 49,
   "metadata": {},
   "outputs": [
    {
     "data": {
      "text/html": [
       "<style type=\"text/css\">\n",
       "#T_fd92d_row0_col1, #T_fd92d_row0_col2, #T_fd92d_row0_col6, #T_fd92d_row1_col1, #T_fd92d_row1_col2, #T_fd92d_row1_col6, #T_fd92d_row2_col1, #T_fd92d_row2_col2, #T_fd92d_row2_col6, #T_fd92d_row3_col1, #T_fd92d_row3_col2, #T_fd92d_row3_col6, #T_fd92d_row3_col7, #T_fd92d_row3_col8, #T_fd92d_row3_col9, #T_fd92d_row3_col10, #T_fd92d_row4_col1, #T_fd92d_row4_col2, #T_fd92d_row4_col6, #T_fd92d_row5_col1, #T_fd92d_row5_col2, #T_fd92d_row5_col6, #T_fd92d_row6_col1, #T_fd92d_row6_col2, #T_fd92d_row6_col3, #T_fd92d_row6_col6, #T_fd92d_row7_col1, #T_fd92d_row7_col2, #T_fd92d_row7_col6 {\n",
       "  background-color: #0b0405;\n",
       "  color: #f1f1f1;\n",
       "}\n",
       "#T_fd92d_row0_col3, #T_fd92d_row1_col3, #T_fd92d_row2_col7, #T_fd92d_row2_col8, #T_fd92d_row2_col9, #T_fd92d_row2_col10, #T_fd92d_row7_col3 {\n",
       "  background-color: #0d0406;\n",
       "  color: #f1f1f1;\n",
       "}\n",
       "#T_fd92d_row0_col7, #T_fd92d_row0_col8, #T_fd92d_row0_col9, #T_fd92d_row0_col10, #T_fd92d_row1_col7, #T_fd92d_row1_col8, #T_fd92d_row1_col9, #T_fd92d_row1_col10, #T_fd92d_row6_col7, #T_fd92d_row6_col8, #T_fd92d_row6_col9, #T_fd92d_row6_col10 {\n",
       "  background-color: #000000;\n",
       "  color: #f1f1f1;\n",
       "}\n",
       "#T_fd92d_row2_col3, #T_fd92d_row5_col7, #T_fd92d_row5_col8, #T_fd92d_row5_col9, #T_fd92d_row5_col10 {\n",
       "  background-color: #def5e5;\n",
       "  color: #000000;\n",
       "}\n",
       "#T_fd92d_row3_col3 {\n",
       "  background-color: #3574a1;\n",
       "  color: #f1f1f1;\n",
       "}\n",
       "#T_fd92d_row4_col3 {\n",
       "  background-color: #40468a;\n",
       "  color: #f1f1f1;\n",
       "}\n",
       "#T_fd92d_row4_col7 {\n",
       "  background-color: #1b0f1a;\n",
       "  color: #f1f1f1;\n",
       "}\n",
       "#T_fd92d_row4_col8 {\n",
       "  background-color: #140910;\n",
       "  color: #f1f1f1;\n",
       "}\n",
       "#T_fd92d_row4_col9, #T_fd92d_row4_col10 {\n",
       "  background-color: #170c15;\n",
       "  color: #f1f1f1;\n",
       "}\n",
       "#T_fd92d_row5_col3 {\n",
       "  background-color: #348da7;\n",
       "  color: #f1f1f1;\n",
       "}\n",
       "#T_fd92d_row7_col7 {\n",
       "  background-color: #47bfad;\n",
       "  color: #000000;\n",
       "}\n",
       "#T_fd92d_row7_col8 {\n",
       "  background-color: #414488;\n",
       "  color: #f1f1f1;\n",
       "}\n",
       "#T_fd92d_row7_col9 {\n",
       "  background-color: #3573a1;\n",
       "  color: #f1f1f1;\n",
       "}\n",
       "#T_fd92d_row7_col10 {\n",
       "  background-color: #3579a2;\n",
       "  color: #f1f1f1;\n",
       "}\n",
       "</style>\n",
       "<table id=\"T_fd92d\">\n",
       "  <thead>\n",
       "    <tr>\n",
       "      <th class=\"blank level0\" >&nbsp;</th>\n",
       "      <th id=\"T_fd92d_level0_col0\" class=\"col_heading level0 col0\" >Dtypes</th>\n",
       "      <th id=\"T_fd92d_level0_col1\" class=\"col_heading level0 col1\" >missing#</th>\n",
       "      <th id=\"T_fd92d_level0_col2\" class=\"col_heading level0 col2\" >missing%</th>\n",
       "      <th id=\"T_fd92d_level0_col3\" class=\"col_heading level0 col3\" >uniques</th>\n",
       "      <th id=\"T_fd92d_level0_col4\" class=\"col_heading level0 col4\" >primer_valor</th>\n",
       "      <th id=\"T_fd92d_level0_col5\" class=\"col_heading level0 col5\" >ultimo_valor</th>\n",
       "      <th id=\"T_fd92d_level0_col6\" class=\"col_heading level0 col6\" >count</th>\n",
       "      <th id=\"T_fd92d_level0_col7\" class=\"col_heading level0 col7\" >min</th>\n",
       "      <th id=\"T_fd92d_level0_col8\" class=\"col_heading level0 col8\" >max</th>\n",
       "      <th id=\"T_fd92d_level0_col9\" class=\"col_heading level0 col9\" >mean</th>\n",
       "      <th id=\"T_fd92d_level0_col10\" class=\"col_heading level0 col10\" >median</th>\n",
       "    </tr>\n",
       "  </thead>\n",
       "  <tbody>\n",
       "    <tr>\n",
       "      <th id=\"T_fd92d_level0_row0\" class=\"row_heading level0 row0\" >species</th>\n",
       "      <td id=\"T_fd92d_row0_col0\" class=\"data row0 col0\" >object</td>\n",
       "      <td id=\"T_fd92d_row0_col1\" class=\"data row0 col1\" >0</td>\n",
       "      <td id=\"T_fd92d_row0_col2\" class=\"data row0 col2\" >0.000000</td>\n",
       "      <td id=\"T_fd92d_row0_col3\" class=\"data row0 col3\" >3</td>\n",
       "      <td id=\"T_fd92d_row0_col4\" class=\"data row0 col4\" >Adelie</td>\n",
       "      <td id=\"T_fd92d_row0_col5\" class=\"data row0 col5\" >Chinstrap</td>\n",
       "      <td id=\"T_fd92d_row0_col6\" class=\"data row0 col6\" >333</td>\n",
       "      <td id=\"T_fd92d_row0_col7\" class=\"data row0 col7\" >nan</td>\n",
       "      <td id=\"T_fd92d_row0_col8\" class=\"data row0 col8\" >nan</td>\n",
       "      <td id=\"T_fd92d_row0_col9\" class=\"data row0 col9\" >nan</td>\n",
       "      <td id=\"T_fd92d_row0_col10\" class=\"data row0 col10\" >nan</td>\n",
       "    </tr>\n",
       "    <tr>\n",
       "      <th id=\"T_fd92d_level0_row1\" class=\"row_heading level0 row1\" >island</th>\n",
       "      <td id=\"T_fd92d_row1_col0\" class=\"data row1 col0\" >object</td>\n",
       "      <td id=\"T_fd92d_row1_col1\" class=\"data row1 col1\" >0</td>\n",
       "      <td id=\"T_fd92d_row1_col2\" class=\"data row1 col2\" >0.000000</td>\n",
       "      <td id=\"T_fd92d_row1_col3\" class=\"data row1 col3\" >3</td>\n",
       "      <td id=\"T_fd92d_row1_col4\" class=\"data row1 col4\" >Torgersen</td>\n",
       "      <td id=\"T_fd92d_row1_col5\" class=\"data row1 col5\" >Dream</td>\n",
       "      <td id=\"T_fd92d_row1_col6\" class=\"data row1 col6\" >333</td>\n",
       "      <td id=\"T_fd92d_row1_col7\" class=\"data row1 col7\" >nan</td>\n",
       "      <td id=\"T_fd92d_row1_col8\" class=\"data row1 col8\" >nan</td>\n",
       "      <td id=\"T_fd92d_row1_col9\" class=\"data row1 col9\" >nan</td>\n",
       "      <td id=\"T_fd92d_row1_col10\" class=\"data row1 col10\" >nan</td>\n",
       "    </tr>\n",
       "    <tr>\n",
       "      <th id=\"T_fd92d_level0_row2\" class=\"row_heading level0 row2\" >bill_length_mm</th>\n",
       "      <td id=\"T_fd92d_row2_col0\" class=\"data row2 col0\" >float64</td>\n",
       "      <td id=\"T_fd92d_row2_col1\" class=\"data row2 col1\" >0</td>\n",
       "      <td id=\"T_fd92d_row2_col2\" class=\"data row2 col2\" >0.000000</td>\n",
       "      <td id=\"T_fd92d_row2_col3\" class=\"data row2 col3\" >163</td>\n",
       "      <td id=\"T_fd92d_row2_col4\" class=\"data row2 col4\" >39.100000</td>\n",
       "      <td id=\"T_fd92d_row2_col5\" class=\"data row2 col5\" >50.200000</td>\n",
       "      <td id=\"T_fd92d_row2_col6\" class=\"data row2 col6\" >333</td>\n",
       "      <td id=\"T_fd92d_row2_col7\" class=\"data row2 col7\" >32.100000</td>\n",
       "      <td id=\"T_fd92d_row2_col8\" class=\"data row2 col8\" >59.600000</td>\n",
       "      <td id=\"T_fd92d_row2_col9\" class=\"data row2 col9\" >43.992793</td>\n",
       "      <td id=\"T_fd92d_row2_col10\" class=\"data row2 col10\" >44.500000</td>\n",
       "    </tr>\n",
       "    <tr>\n",
       "      <th id=\"T_fd92d_level0_row3\" class=\"row_heading level0 row3\" >bill_depth_mm</th>\n",
       "      <td id=\"T_fd92d_row3_col0\" class=\"data row3 col0\" >float64</td>\n",
       "      <td id=\"T_fd92d_row3_col1\" class=\"data row3 col1\" >0</td>\n",
       "      <td id=\"T_fd92d_row3_col2\" class=\"data row3 col2\" >0.000000</td>\n",
       "      <td id=\"T_fd92d_row3_col3\" class=\"data row3 col3\" >79</td>\n",
       "      <td id=\"T_fd92d_row3_col4\" class=\"data row3 col4\" >18.700000</td>\n",
       "      <td id=\"T_fd92d_row3_col5\" class=\"data row3 col5\" >18.700000</td>\n",
       "      <td id=\"T_fd92d_row3_col6\" class=\"data row3 col6\" >333</td>\n",
       "      <td id=\"T_fd92d_row3_col7\" class=\"data row3 col7\" >13.100000</td>\n",
       "      <td id=\"T_fd92d_row3_col8\" class=\"data row3 col8\" >21.500000</td>\n",
       "      <td id=\"T_fd92d_row3_col9\" class=\"data row3 col9\" >17.164865</td>\n",
       "      <td id=\"T_fd92d_row3_col10\" class=\"data row3 col10\" >17.300000</td>\n",
       "    </tr>\n",
       "    <tr>\n",
       "      <th id=\"T_fd92d_level0_row4\" class=\"row_heading level0 row4\" >flipper_length_mm</th>\n",
       "      <td id=\"T_fd92d_row4_col0\" class=\"data row4 col0\" >float64</td>\n",
       "      <td id=\"T_fd92d_row4_col1\" class=\"data row4 col1\" >0</td>\n",
       "      <td id=\"T_fd92d_row4_col2\" class=\"data row4 col2\" >0.000000</td>\n",
       "      <td id=\"T_fd92d_row4_col3\" class=\"data row4 col3\" >54</td>\n",
       "      <td id=\"T_fd92d_row4_col4\" class=\"data row4 col4\" >181.000000</td>\n",
       "      <td id=\"T_fd92d_row4_col5\" class=\"data row4 col5\" >198.000000</td>\n",
       "      <td id=\"T_fd92d_row4_col6\" class=\"data row4 col6\" >333</td>\n",
       "      <td id=\"T_fd92d_row4_col7\" class=\"data row4 col7\" >172.000000</td>\n",
       "      <td id=\"T_fd92d_row4_col8\" class=\"data row4 col8\" >231.000000</td>\n",
       "      <td id=\"T_fd92d_row4_col9\" class=\"data row4 col9\" >200.966967</td>\n",
       "      <td id=\"T_fd92d_row4_col10\" class=\"data row4 col10\" >197.000000</td>\n",
       "    </tr>\n",
       "    <tr>\n",
       "      <th id=\"T_fd92d_level0_row5\" class=\"row_heading level0 row5\" >body_mass_g</th>\n",
       "      <td id=\"T_fd92d_row5_col0\" class=\"data row5 col0\" >float64</td>\n",
       "      <td id=\"T_fd92d_row5_col1\" class=\"data row5 col1\" >0</td>\n",
       "      <td id=\"T_fd92d_row5_col2\" class=\"data row5 col2\" >0.000000</td>\n",
       "      <td id=\"T_fd92d_row5_col3\" class=\"data row5 col3\" >93</td>\n",
       "      <td id=\"T_fd92d_row5_col4\" class=\"data row5 col4\" >3750.000000</td>\n",
       "      <td id=\"T_fd92d_row5_col5\" class=\"data row5 col5\" >3775.000000</td>\n",
       "      <td id=\"T_fd92d_row5_col6\" class=\"data row5 col6\" >333</td>\n",
       "      <td id=\"T_fd92d_row5_col7\" class=\"data row5 col7\" >2700.000000</td>\n",
       "      <td id=\"T_fd92d_row5_col8\" class=\"data row5 col8\" >6300.000000</td>\n",
       "      <td id=\"T_fd92d_row5_col9\" class=\"data row5 col9\" >4207.057057</td>\n",
       "      <td id=\"T_fd92d_row5_col10\" class=\"data row5 col10\" >4050.000000</td>\n",
       "    </tr>\n",
       "    <tr>\n",
       "      <th id=\"T_fd92d_level0_row6\" class=\"row_heading level0 row6\" >sex</th>\n",
       "      <td id=\"T_fd92d_row6_col0\" class=\"data row6 col0\" >object</td>\n",
       "      <td id=\"T_fd92d_row6_col1\" class=\"data row6 col1\" >0</td>\n",
       "      <td id=\"T_fd92d_row6_col2\" class=\"data row6 col2\" >0.000000</td>\n",
       "      <td id=\"T_fd92d_row6_col3\" class=\"data row6 col3\" >2</td>\n",
       "      <td id=\"T_fd92d_row6_col4\" class=\"data row6 col4\" >male</td>\n",
       "      <td id=\"T_fd92d_row6_col5\" class=\"data row6 col5\" >female</td>\n",
       "      <td id=\"T_fd92d_row6_col6\" class=\"data row6 col6\" >333</td>\n",
       "      <td id=\"T_fd92d_row6_col7\" class=\"data row6 col7\" >nan</td>\n",
       "      <td id=\"T_fd92d_row6_col8\" class=\"data row6 col8\" >nan</td>\n",
       "      <td id=\"T_fd92d_row6_col9\" class=\"data row6 col9\" >nan</td>\n",
       "      <td id=\"T_fd92d_row6_col10\" class=\"data row6 col10\" >nan</td>\n",
       "    </tr>\n",
       "    <tr>\n",
       "      <th id=\"T_fd92d_level0_row7\" class=\"row_heading level0 row7\" >year</th>\n",
       "      <td id=\"T_fd92d_row7_col0\" class=\"data row7 col0\" >int64</td>\n",
       "      <td id=\"T_fd92d_row7_col1\" class=\"data row7 col1\" >0</td>\n",
       "      <td id=\"T_fd92d_row7_col2\" class=\"data row7 col2\" >0.000000</td>\n",
       "      <td id=\"T_fd92d_row7_col3\" class=\"data row7 col3\" >3</td>\n",
       "      <td id=\"T_fd92d_row7_col4\" class=\"data row7 col4\" >2007</td>\n",
       "      <td id=\"T_fd92d_row7_col5\" class=\"data row7 col5\" >2009</td>\n",
       "      <td id=\"T_fd92d_row7_col6\" class=\"data row7 col6\" >333</td>\n",
       "      <td id=\"T_fd92d_row7_col7\" class=\"data row7 col7\" >2007.000000</td>\n",
       "      <td id=\"T_fd92d_row7_col8\" class=\"data row7 col8\" >2009.000000</td>\n",
       "      <td id=\"T_fd92d_row7_col9\" class=\"data row7 col9\" >2008.042042</td>\n",
       "      <td id=\"T_fd92d_row7_col10\" class=\"data row7 col10\" >2008.000000</td>\n",
       "    </tr>\n",
       "  </tbody>\n",
       "</table>\n"
      ],
      "text/plain": [
       "<pandas.io.formats.style.Styler at 0x7f4c6a256110>"
      ]
     },
     "execution_count": 49,
     "metadata": {},
     "output_type": "execute_result"
    }
   ],
   "source": [
    "resumen_data(processed_df).style.background_gradient(cmap='mako')"
   ]
  },
  {
   "cell_type": "code",
   "execution_count": 50,
   "metadata": {},
   "outputs": [
    {
     "name": "stdout",
     "output_type": "stream",
     "text": [
      "Moda:    bill_length_mm  bill_depth_mm  flipper_length_mm  body_mass_g  year\n",
      "0            41.1           17.0              190.0       3800.0  2009\n"
     ]
    }
   ],
   "source": [
    "print(f\"Moda: {processed_df.mode(numeric_only=True)}\")"
   ]
  }
 ],
 "metadata": {
  "kernelspec": {
   "display_name": ".venv",
   "language": "python",
   "name": "python3"
  },
  "language_info": {
   "codemirror_mode": {
    "name": "ipython",
    "version": 3
   },
   "file_extension": ".py",
   "mimetype": "text/x-python",
   "name": "python",
   "nbconvert_exporter": "python",
   "pygments_lexer": "ipython3",
   "version": "3.10.12"
  }
 },
 "nbformat": 4,
 "nbformat_minor": 2
}
